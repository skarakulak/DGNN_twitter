{
 "cells": [
  {
   "cell_type": "markdown",
   "metadata": {},
   "source": [
    "# Detection of Twitter users using hateful lexicon, baselines using LR and MLP\n",
    "\n",
    "**References**\n",
    "\n",
    "1. \"Like Sheep Among Wolves\": Characterizing Hateful Users on Twitter. M. H. Ribeiro, P. H. Calais, Y. A. Santos, V. A. F. Almeida, and W. Meira Jr.  arXiv preprint arXiv:1801.00317 (2017).\n",
    "\n",
    "\n",
    "2. Semi-Supervised Classification with Graph Convolutional Networks. T. Kipf, M. Welling. ICLR 2017. arXiv:1609.02907 \n",
    "\n",
    "\n",
    "3. Graph Attention Networks. P. Velickovic et al. ICLR 2018\n",
    "\n",
    "\n",
    "4. Inductive Representation Learning on Large Graphs. W.L. Hamilton, R. Ying, and J. Leskovec arXiv:1706.02216 \n",
    "[cs.SI], 2017."
   ]
  },
  {
   "cell_type": "code",
   "execution_count": 109,
   "metadata": {},
   "outputs": [],
   "source": [
    "import networkx as nx\n",
    "import pandas as pd\n",
    "import numpy as np\n",
    "import seaborn as sns\n",
    "import itertools\n",
    "import os\n",
    "\n",
    "from sklearn.decomposition import PCA\n",
    "from sklearn.manifold import TSNE\n",
    "from sklearn.linear_model import LogisticRegressionCV\n",
    "\n",
    "import copy\n",
    "\n",
    "from sklearn import preprocessing, feature_extraction\n",
    "from sklearn.model_selection import train_test_split\n",
    "from sklearn import metrics\n",
    "\n",
    "import torch\n",
    "import torch.nn as nn\n",
    "import torch.nn.functional as F\n",
    "from torch.utils.data import Dataset, DataLoader\n",
    "import torch.optim as optim\n",
    "from torch.optim import lr_scheduler\n",
    "\n",
    "import matplotlib.pyplot as plt\n",
    "import seaborn as sns\n",
    "\n",
    "%matplotlib inline"
   ]
  },
  {
   "cell_type": "markdown",
   "metadata": {},
   "source": [
    "### Loading the data"
   ]
  },
  {
   "cell_type": "code",
   "execution_count": 110,
   "metadata": {},
   "outputs": [],
   "source": [
    "data_dir = os.path.expanduser(\"../twitter_data/public\")"
   ]
  },
  {
   "cell_type": "markdown",
   "metadata": {},
   "source": [
    "### First load and prepare the node features\n",
    "\n",
    "Each node in the graph is associated with a large number of features (also referred to as attributes). \n",
    "\n",
    "The list of features is given [here](https://www.kaggle.com/manoelribeiro/hateful-users-on-twitter). \n",
    "\n",
    "hate :(\"hateful\"|\"normal\"|\"other\")\n",
    "  if user was annotated as hateful, normal, or not annotated.\n",
    "  \n",
    "  (is_50|is_50_2) :bool\n",
    "  whether user was deleted up to 12/12/17 or 14/01/18. \n",
    "  \n",
    "  (is_63|is_63_2) :bool\n",
    "  whether user was suspended up to 12/12/17 or 14/01/18. \n",
    "        \n",
    "  (hate|normal)_neigh :bool\n",
    "  is the user on the neighborhood of a (hateful|normal) user? \n",
    "  \n",
    "  [c_] (statuses|follower|followees|favorites)_count :int\n",
    "  number of (tweets|follower|followees|favorites) a user has.\n",
    "  \n",
    "  [c_] listed_count:int\n",
    "  number of lists a user is in.\n",
    "\n",
    "  [c_] (betweenness|eigenvector|in_degree|outdegree) :float\n",
    "  centrality measurements for each user in the retweet graph.\n",
    "  \n",
    "  [c_] *_empath :float\n",
    "  occurrences of empath categories in the users latest 200 tweets.\n",
    "\n",
    "  [c_] *_glove :float          \n",
    "  glove vector calculated for users latest 200 tweets.\n",
    "  \n",
    "  [c_] (sentiment|subjectivity) :float\n",
    "  average sentiment and subjectivity of users tweets.\n",
    "  \n",
    "  [c_] (time_diff|time_diff_median) :float\n",
    "  average and median time difference between tweets.\n",
    "  \n",
    "  [c_] (tweet|retweet|quote) number :float\n",
    "  percentage of direct tweets, retweets and quotes of an user.\n",
    "  \n",
    "  [c_] (number urls|number hashtags|baddies|mentions) :float\n",
    "  number of bad words|mentions|urls|hashtags per tweet in average.\n",
    "  \n",
    "  [c_] status length :float\n",
    "  average status length.\n",
    "  \n",
    "  hashtags :string\n",
    "  all hashtags employed by the user separated by spaces.\n",
    "  \n",
    "**Notice** that c_ are attributes calculated for the 1-neighborhood of a user in the retweet network (averaged out)."
   ]
  },
  {
   "cell_type": "code",
   "execution_count": 111,
   "metadata": {},
   "outputs": [
    {
     "data": {
      "text/html": [
       "<div>\n",
       "<style scoped>\n",
       "    .dataframe tbody tr th:only-of-type {\n",
       "        vertical-align: middle;\n",
       "    }\n",
       "\n",
       "    .dataframe tbody tr th {\n",
       "        vertical-align: top;\n",
       "    }\n",
       "\n",
       "    .dataframe thead th {\n",
       "        text-align: right;\n",
       "    }\n",
       "</style>\n",
       "<table border=\"1\" class=\"dataframe\">\n",
       "  <thead>\n",
       "    <tr style=\"text-align: right;\">\n",
       "      <th></th>\n",
       "      <th>user_id</th>\n",
       "      <th>hate</th>\n",
       "      <th>hate_neigh</th>\n",
       "      <th>normal_neigh</th>\n",
       "      <th>statuses_count</th>\n",
       "      <th>followers_count</th>\n",
       "      <th>followees_count</th>\n",
       "      <th>favorites_count</th>\n",
       "      <th>listed_count</th>\n",
       "      <th>betweenness</th>\n",
       "      <th>...</th>\n",
       "      <th>c_feminine_empath</th>\n",
       "      <th>c_medieval_empath</th>\n",
       "      <th>c_journalism_empath</th>\n",
       "      <th>c_farming_empath</th>\n",
       "      <th>c_plant_empath</th>\n",
       "      <th>c_shopping_empath</th>\n",
       "      <th>c_ship_empath</th>\n",
       "      <th>c_religion_empath</th>\n",
       "      <th>c_tourism_empath</th>\n",
       "      <th>c_power_empath</th>\n",
       "    </tr>\n",
       "  </thead>\n",
       "  <tbody>\n",
       "    <tr>\n",
       "      <th>0</th>\n",
       "      <td>0</td>\n",
       "      <td>normal</td>\n",
       "      <td>True</td>\n",
       "      <td>True</td>\n",
       "      <td>101767</td>\n",
       "      <td>3504</td>\n",
       "      <td>3673</td>\n",
       "      <td>81635</td>\n",
       "      <td>53</td>\n",
       "      <td>100467.895084</td>\n",
       "      <td>...</td>\n",
       "      <td>0.001380</td>\n",
       "      <td>0.003288</td>\n",
       "      <td>0.000255</td>\n",
       "      <td>0.002189</td>\n",
       "      <td>0.000593</td>\n",
       "      <td>0.003689</td>\n",
       "      <td>0.003559</td>\n",
       "      <td>0.001634</td>\n",
       "      <td>0.002662</td>\n",
       "      <td>0.007487</td>\n",
       "    </tr>\n",
       "    <tr>\n",
       "      <th>1</th>\n",
       "      <td>1</td>\n",
       "      <td>other</td>\n",
       "      <td>False</td>\n",
       "      <td>False</td>\n",
       "      <td>2352</td>\n",
       "      <td>19609</td>\n",
       "      <td>309</td>\n",
       "      <td>61</td>\n",
       "      <td>197</td>\n",
       "      <td>0.000000</td>\n",
       "      <td>...</td>\n",
       "      <td>0.000802</td>\n",
       "      <td>0.004465</td>\n",
       "      <td>0.000444</td>\n",
       "      <td>0.001632</td>\n",
       "      <td>0.001298</td>\n",
       "      <td>0.002183</td>\n",
       "      <td>0.008969</td>\n",
       "      <td>0.004975</td>\n",
       "      <td>0.000647</td>\n",
       "      <td>0.003419</td>\n",
       "    </tr>\n",
       "    <tr>\n",
       "      <th>2</th>\n",
       "      <td>2</td>\n",
       "      <td>other</td>\n",
       "      <td>False</td>\n",
       "      <td>False</td>\n",
       "      <td>1044</td>\n",
       "      <td>2371</td>\n",
       "      <td>2246</td>\n",
       "      <td>561</td>\n",
       "      <td>16</td>\n",
       "      <td>4897.117853</td>\n",
       "      <td>...</td>\n",
       "      <td>0.000985</td>\n",
       "      <td>0.005284</td>\n",
       "      <td>0.000554</td>\n",
       "      <td>0.001084</td>\n",
       "      <td>0.001359</td>\n",
       "      <td>0.002041</td>\n",
       "      <td>0.016846</td>\n",
       "      <td>0.004881</td>\n",
       "      <td>0.001214</td>\n",
       "      <td>0.003347</td>\n",
       "    </tr>\n",
       "    <tr>\n",
       "      <th>3</th>\n",
       "      <td>3</td>\n",
       "      <td>other</td>\n",
       "      <td>False</td>\n",
       "      <td>False</td>\n",
       "      <td>167172</td>\n",
       "      <td>3004</td>\n",
       "      <td>298</td>\n",
       "      <td>3242</td>\n",
       "      <td>53</td>\n",
       "      <td>9.864754</td>\n",
       "      <td>...</td>\n",
       "      <td>0.001391</td>\n",
       "      <td>0.002061</td>\n",
       "      <td>0.001116</td>\n",
       "      <td>0.001282</td>\n",
       "      <td>0.000000</td>\n",
       "      <td>0.001951</td>\n",
       "      <td>0.015423</td>\n",
       "      <td>0.000446</td>\n",
       "      <td>0.000446</td>\n",
       "      <td>0.005241</td>\n",
       "    </tr>\n",
       "    <tr>\n",
       "      <th>4</th>\n",
       "      <td>4</td>\n",
       "      <td>other</td>\n",
       "      <td>False</td>\n",
       "      <td>False</td>\n",
       "      <td>1998</td>\n",
       "      <td>17643</td>\n",
       "      <td>19355</td>\n",
       "      <td>485</td>\n",
       "      <td>239</td>\n",
       "      <td>0.000000</td>\n",
       "      <td>...</td>\n",
       "      <td>0.000633</td>\n",
       "      <td>0.035382</td>\n",
       "      <td>0.000317</td>\n",
       "      <td>0.000475</td>\n",
       "      <td>0.000475</td>\n",
       "      <td>0.002431</td>\n",
       "      <td>0.007656</td>\n",
       "      <td>0.033273</td>\n",
       "      <td>0.072792</td>\n",
       "      <td>0.003698</td>\n",
       "    </tr>\n",
       "  </tbody>\n",
       "</table>\n",
       "<p>5 rows × 1039 columns</p>\n",
       "</div>"
      ],
      "text/plain": [
       "   user_id    hate  hate_neigh  normal_neigh  statuses_count  followers_count  \\\n",
       "0        0  normal        True          True          101767             3504   \n",
       "1        1   other       False         False            2352            19609   \n",
       "2        2   other       False         False            1044             2371   \n",
       "3        3   other       False         False          167172             3004   \n",
       "4        4   other       False         False            1998            17643   \n",
       "\n",
       "   followees_count  favorites_count  listed_count    betweenness  ...  \\\n",
       "0             3673            81635            53  100467.895084  ...   \n",
       "1              309               61           197       0.000000  ...   \n",
       "2             2246              561            16    4897.117853  ...   \n",
       "3              298             3242            53       9.864754  ...   \n",
       "4            19355              485           239       0.000000  ...   \n",
       "\n",
       "   c_feminine_empath  c_medieval_empath  c_journalism_empath  \\\n",
       "0           0.001380           0.003288             0.000255   \n",
       "1           0.000802           0.004465             0.000444   \n",
       "2           0.000985           0.005284             0.000554   \n",
       "3           0.001391           0.002061             0.001116   \n",
       "4           0.000633           0.035382             0.000317   \n",
       "\n",
       "   c_farming_empath  c_plant_empath  c_shopping_empath  c_ship_empath  \\\n",
       "0          0.002189        0.000593           0.003689       0.003559   \n",
       "1          0.001632        0.001298           0.002183       0.008969   \n",
       "2          0.001084        0.001359           0.002041       0.016846   \n",
       "3          0.001282        0.000000           0.001951       0.015423   \n",
       "4          0.000475        0.000475           0.002431       0.007656   \n",
       "\n",
       "   c_religion_empath  c_tourism_empath  c_power_empath  \n",
       "0           0.001634          0.002662        0.007487  \n",
       "1           0.004975          0.000647        0.003419  \n",
       "2           0.004881          0.001214        0.003347  \n",
       "3           0.000446          0.000446        0.005241  \n",
       "4           0.033273          0.072792        0.003698  \n",
       "\n",
       "[5 rows x 1039 columns]"
      ]
     },
     "execution_count": 111,
     "metadata": {},
     "output_type": "execute_result"
    }
   ],
   "source": [
    "users_feat = pd.read_csv(os.path.join(data_dir, 'users_neighborhood_anon.csv'))\n",
    "users_feat.head()"
   ]
  },
  {
   "cell_type": "code",
   "execution_count": 5,
   "metadata": {},
   "outputs": [
    {
     "name": "stdout",
     "output_type": "stream",
     "text": [
      "Initial hateful/normal users distribution\n",
      "(100386, 1039)\n",
      "other      95415\n",
      "normal      4427\n",
      "hateful      544\n",
      "Name: hate, dtype: int64\n"
     ]
    }
   ],
   "source": [
    "print(\"Initial hateful/normal users distribution\")\n",
    "print(users_feat.shape)\n",
    "print(users_feat.hate.value_counts())"
   ]
  },
  {
   "cell_type": "markdown",
   "metadata": {},
   "source": [
    "### Removing Graph related features"
   ]
  },
  {
   "cell_type": "code",
   "execution_count": 6,
   "metadata": {},
   "outputs": [],
   "source": [
    "def remove_graphical_features(feat, dropc = True, dropglove = True, dropsentiment = True, drophashtag = True):\n",
    "    feat = feat.drop(columns=[\"hate_neigh\", \"normal_neigh\"])\n",
    "    \n",
    "    # missing information\n",
    "    number_of_missing = feat.isnull().sum()\n",
    "    number_of_missing[number_of_missing!=0]\n",
    "    \n",
    "    # Replace NA with 0\n",
    "    feat.fillna(0, inplace=True)\n",
    "\n",
    "    # droping info about suspension and deletion as it is should not be use din the predictive model\n",
    "    feat.drop(feat.columns[feat.columns.str.contains(\"is_\")], axis=1, inplace=True)\n",
    "    \n",
    "    if dropglove:\n",
    "        # drop glove features\n",
    "        feat.drop(feat.columns[feat.columns.str.contains(\"_glove\")], axis=1, inplace=True)\n",
    "        \n",
    "    if dropc:\n",
    "        # drop c_ features\n",
    "        feat.drop(feat.columns[feat.columns.str.contains(\"c_\")], axis=1, inplace=True)\n",
    "\n",
    "    if dropsentiment:\n",
    "        # drop sentiment features for now\n",
    "        feat.drop(feat.columns[feat.columns.str.contains(\"sentiment\")], axis=1, inplace=True)\n",
    "\n",
    "    if drophashtag:\n",
    "        # drop hashtag feature\n",
    "        feat.drop(['hashtags'], axis=1, inplace=True)\n",
    "\n",
    "    # Drop centrality based measures\n",
    "    feat.drop(columns=['betweenness', 'eigenvector', 'in_degree', 'out_degree'], inplace=True)\n",
    "    \n",
    "    feat.drop(columns=['created_at'], inplace=True)\n",
    "    \n",
    "    return feat"
   ]
  },
  {
   "cell_type": "code",
   "execution_count": 7,
   "metadata": {},
   "outputs": [],
   "source": [
    "def convert_label_to_int(feat):\n",
    "    # Convert target values in hate column from strings to integers (0,1,2)\n",
    "    feat['hate'] = np.where(feat['hate']=='hateful', 1, np.where(feat['hate']=='normal', 0, 2))\n",
    "    return feat"
   ]
  },
  {
   "cell_type": "code",
   "execution_count": 8,
   "metadata": {},
   "outputs": [],
   "source": [
    "node_data = remove_graphical_features(users_feat)\n",
    "node_data = convert_label_to_int(node_data)"
   ]
  },
  {
   "cell_type": "markdown",
   "metadata": {},
   "source": [
    "Of the original **1037** node features, we are keeping only **204** that are based on a user's attributes and tweet lexicon. We have removed any manually engineered graph features since the graph neural network algorithms we are going to use will automatically determine the best features to use during training."
   ]
  },
  {
   "cell_type": "code",
   "execution_count": 9,
   "metadata": {},
   "outputs": [
    {
     "data": {
      "text/plain": [
       "(100386, 206)"
      ]
     },
     "execution_count": 9,
     "metadata": {},
     "output_type": "execute_result"
    }
   ],
   "source": [
    "node_data.shape"
   ]
  },
  {
   "cell_type": "code",
   "execution_count": 11,
   "metadata": {},
   "outputs": [],
   "source": [
    "# Set the dataframe index to be the same as the user_id and drop the user_id columns\n",
    "node_data.index = node_data.index.map(str)\n",
    "node_data.drop(columns=['user_id'], inplace=True)"
   ]
  },
  {
   "cell_type": "markdown",
   "metadata": {},
   "source": [
    "### Splitting the data"
   ]
  },
  {
   "cell_type": "markdown",
   "metadata": {},
   "source": [
    "60% train, 40% test"
   ]
  },
  {
   "cell_type": "code",
   "execution_count": 12,
   "metadata": {},
   "outputs": [],
   "source": [
    "# choose the nodes annotated with normal or hateful classes\n",
    "annotated_users = node_data[node_data['hate']!=2]"
   ]
  },
  {
   "cell_type": "code",
   "execution_count": 13,
   "metadata": {},
   "outputs": [
    {
     "data": {
      "text/html": [
       "<div>\n",
       "<style scoped>\n",
       "    .dataframe tbody tr th:only-of-type {\n",
       "        vertical-align: middle;\n",
       "    }\n",
       "\n",
       "    .dataframe tbody tr th {\n",
       "        vertical-align: top;\n",
       "    }\n",
       "\n",
       "    .dataframe thead th {\n",
       "        text-align: right;\n",
       "    }\n",
       "</style>\n",
       "<table border=\"1\" class=\"dataframe\">\n",
       "  <thead>\n",
       "    <tr style=\"text-align: right;\">\n",
       "      <th></th>\n",
       "      <th>hate</th>\n",
       "      <th>statuses_count</th>\n",
       "      <th>followers_count</th>\n",
       "      <th>followees_count</th>\n",
       "      <th>favorites_count</th>\n",
       "      <th>listed_count</th>\n",
       "      <th>negotiate_empath</th>\n",
       "      <th>vehicle_empath</th>\n",
       "      <th>science_empath</th>\n",
       "      <th>timidity_empath</th>\n",
       "      <th>...</th>\n",
       "      <th>number hashtags</th>\n",
       "      <th>tweet number</th>\n",
       "      <th>retweet number</th>\n",
       "      <th>quote number</th>\n",
       "      <th>status length</th>\n",
       "      <th>number urls</th>\n",
       "      <th>baddies</th>\n",
       "      <th>mentions</th>\n",
       "      <th>time_diff</th>\n",
       "      <th>time_diff_median</th>\n",
       "    </tr>\n",
       "  </thead>\n",
       "  <tbody>\n",
       "    <tr>\n",
       "      <th>0</th>\n",
       "      <td>0</td>\n",
       "      <td>101767</td>\n",
       "      <td>3504</td>\n",
       "      <td>3673</td>\n",
       "      <td>81635</td>\n",
       "      <td>53</td>\n",
       "      <td>0.000513</td>\n",
       "      <td>0.002564</td>\n",
       "      <td>0.002564</td>\n",
       "      <td>0.003077</td>\n",
       "      <td>...</td>\n",
       "      <td>16.0</td>\n",
       "      <td>121.0</td>\n",
       "      <td>79.0</td>\n",
       "      <td>5.0</td>\n",
       "      <td>75.565</td>\n",
       "      <td>82.0</td>\n",
       "      <td>18.0</td>\n",
       "      <td>159.0</td>\n",
       "      <td>356.020101</td>\n",
       "      <td>74.0</td>\n",
       "    </tr>\n",
       "    <tr>\n",
       "      <th>22</th>\n",
       "      <td>0</td>\n",
       "      <td>111948</td>\n",
       "      <td>1586</td>\n",
       "      <td>997</td>\n",
       "      <td>80</td>\n",
       "      <td>7</td>\n",
       "      <td>0.001923</td>\n",
       "      <td>0.000641</td>\n",
       "      <td>0.001923</td>\n",
       "      <td>0.001282</td>\n",
       "      <td>...</td>\n",
       "      <td>4.0</td>\n",
       "      <td>187.0</td>\n",
       "      <td>13.0</td>\n",
       "      <td>54.0</td>\n",
       "      <td>56.175</td>\n",
       "      <td>74.0</td>\n",
       "      <td>17.0</td>\n",
       "      <td>113.0</td>\n",
       "      <td>2662.497487</td>\n",
       "      <td>125.0</td>\n",
       "    </tr>\n",
       "    <tr>\n",
       "      <th>29</th>\n",
       "      <td>0</td>\n",
       "      <td>28222</td>\n",
       "      <td>27545</td>\n",
       "      <td>282</td>\n",
       "      <td>916</td>\n",
       "      <td>499</td>\n",
       "      <td>0.006281</td>\n",
       "      <td>0.001759</td>\n",
       "      <td>0.002513</td>\n",
       "      <td>0.003769</td>\n",
       "      <td>...</td>\n",
       "      <td>22.0</td>\n",
       "      <td>178.0</td>\n",
       "      <td>22.0</td>\n",
       "      <td>29.0</td>\n",
       "      <td>131.685</td>\n",
       "      <td>108.0</td>\n",
       "      <td>26.0</td>\n",
       "      <td>224.0</td>\n",
       "      <td>2742.698492</td>\n",
       "      <td>272.0</td>\n",
       "    </tr>\n",
       "    <tr>\n",
       "      <th>44</th>\n",
       "      <td>0</td>\n",
       "      <td>3101</td>\n",
       "      <td>2173</td>\n",
       "      <td>923</td>\n",
       "      <td>1193</td>\n",
       "      <td>11</td>\n",
       "      <td>0.008295</td>\n",
       "      <td>0.001659</td>\n",
       "      <td>0.002654</td>\n",
       "      <td>0.004313</td>\n",
       "      <td>...</td>\n",
       "      <td>87.0</td>\n",
       "      <td>55.0</td>\n",
       "      <td>145.0</td>\n",
       "      <td>6.0</td>\n",
       "      <td>135.485</td>\n",
       "      <td>188.0</td>\n",
       "      <td>18.0</td>\n",
       "      <td>203.0</td>\n",
       "      <td>51670.407035</td>\n",
       "      <td>21808.0</td>\n",
       "    </tr>\n",
       "    <tr>\n",
       "      <th>85</th>\n",
       "      <td>0</td>\n",
       "      <td>49169</td>\n",
       "      <td>2321</td>\n",
       "      <td>206</td>\n",
       "      <td>24755</td>\n",
       "      <td>37</td>\n",
       "      <td>0.002744</td>\n",
       "      <td>0.000549</td>\n",
       "      <td>0.007135</td>\n",
       "      <td>0.001647</td>\n",
       "      <td>...</td>\n",
       "      <td>21.0</td>\n",
       "      <td>143.0</td>\n",
       "      <td>57.0</td>\n",
       "      <td>14.0</td>\n",
       "      <td>98.165</td>\n",
       "      <td>115.0</td>\n",
       "      <td>11.0</td>\n",
       "      <td>148.0</td>\n",
       "      <td>4613.944724</td>\n",
       "      <td>322.0</td>\n",
       "    </tr>\n",
       "  </tbody>\n",
       "</table>\n",
       "<p>5 rows × 205 columns</p>\n",
       "</div>"
      ],
      "text/plain": [
       "    hate  statuses_count  followers_count  followees_count  favorites_count  \\\n",
       "0      0          101767             3504             3673            81635   \n",
       "22     0          111948             1586              997               80   \n",
       "29     0           28222            27545              282              916   \n",
       "44     0            3101             2173              923             1193   \n",
       "85     0           49169             2321              206            24755   \n",
       "\n",
       "    listed_count  negotiate_empath  vehicle_empath  science_empath  \\\n",
       "0             53          0.000513        0.002564        0.002564   \n",
       "22             7          0.001923        0.000641        0.001923   \n",
       "29           499          0.006281        0.001759        0.002513   \n",
       "44            11          0.008295        0.001659        0.002654   \n",
       "85            37          0.002744        0.000549        0.007135   \n",
       "\n",
       "    timidity_empath  ...  number hashtags  tweet number  retweet number  \\\n",
       "0          0.003077  ...             16.0         121.0            79.0   \n",
       "22         0.001282  ...              4.0         187.0            13.0   \n",
       "29         0.003769  ...             22.0         178.0            22.0   \n",
       "44         0.004313  ...             87.0          55.0           145.0   \n",
       "85         0.001647  ...             21.0         143.0            57.0   \n",
       "\n",
       "    quote number  status length  number urls  baddies  mentions     time_diff  \\\n",
       "0            5.0         75.565         82.0     18.0     159.0    356.020101   \n",
       "22          54.0         56.175         74.0     17.0     113.0   2662.497487   \n",
       "29          29.0        131.685        108.0     26.0     224.0   2742.698492   \n",
       "44           6.0        135.485        188.0     18.0     203.0  51670.407035   \n",
       "85          14.0         98.165        115.0     11.0     148.0   4613.944724   \n",
       "\n",
       "    time_diff_median  \n",
       "0               74.0  \n",
       "22             125.0  \n",
       "29             272.0  \n",
       "44           21808.0  \n",
       "85             322.0  \n",
       "\n",
       "[5 rows x 205 columns]"
      ]
     },
     "execution_count": 13,
     "metadata": {},
     "output_type": "execute_result"
    }
   ],
   "source": [
    "annotated_users.head()"
   ]
  },
  {
   "cell_type": "code",
   "execution_count": 14,
   "metadata": {},
   "outputs": [
    {
     "data": {
      "text/plain": [
       "(4971, 205)"
      ]
     },
     "execution_count": 14,
     "metadata": {},
     "output_type": "execute_result"
    }
   ],
   "source": [
    "annotated_users.shape"
   ]
  },
  {
   "cell_type": "code",
   "execution_count": 15,
   "metadata": {},
   "outputs": [],
   "source": [
    "annotated_user_features = annotated_users.drop(columns=['hate'])\n",
    "annotated_user_targets = annotated_users[['hate']]"
   ]
  },
  {
   "cell_type": "code",
   "execution_count": 16,
   "metadata": {},
   "outputs": [
    {
     "name": "stdout",
     "output_type": "stream",
     "text": [
      "0    4427\n",
      "1     544\n",
      "Name: hate, dtype: int64\n"
     ]
    }
   ],
   "source": [
    "print(annotated_user_targets.hate.value_counts())"
   ]
  },
  {
   "cell_type": "code",
   "execution_count": 17,
   "metadata": {},
   "outputs": [
    {
     "name": "stdout",
     "output_type": "stream",
     "text": [
      "Sizes and class distributions for train/test data\n",
      "Shape train_data (2982, 204)\n",
      "Shape test_data (1989, 204)\n",
      "Train data number of 0s 2647 and 1s 335\n",
      "Test data number of 0s 1780 and 1s 209\n"
     ]
    }
   ],
   "source": [
    "# split the data\n",
    "train_data, test_data, train_targets, test_targets = train_test_split(annotated_user_features,\n",
    "                                         annotated_user_targets,\n",
    "                                         test_size=0.40,\n",
    "                                         random_state=101)\n",
    "train_targets = train_targets.values\n",
    "test_targets = test_targets.values\n",
    "print(\"Sizes and class distributions for train/test data\")\n",
    "print(\"Shape train_data {}\".format(train_data.shape))\n",
    "print(\"Shape test_data {}\".format(test_data.shape))\n",
    "print(\"Train data number of 0s {} and 1s {}\".format(np.sum(train_targets==0), \n",
    "                                                    np.sum(train_targets==1)))\n",
    "print(\"Test data number of 0s {} and 1s {}\".format(np.sum(test_targets==0), \n",
    "                                                   np.sum(test_targets==1)))"
   ]
  },
  {
   "cell_type": "code",
   "execution_count": 18,
   "metadata": {},
   "outputs": [
    {
     "data": {
      "text/plain": [
       "((2982, 1), (1989, 1))"
      ]
     },
     "execution_count": 18,
     "metadata": {},
     "output_type": "execute_result"
    }
   ],
   "source": [
    "train_targets.shape, test_targets.shape"
   ]
  },
  {
   "cell_type": "code",
   "execution_count": 19,
   "metadata": {},
   "outputs": [
    {
     "data": {
      "text/plain": [
       "((2982, 204), (1989, 204))"
      ]
     },
     "execution_count": 19,
     "metadata": {},
     "output_type": "execute_result"
    }
   ],
   "source": [
    "train_data.shape, test_data.shape"
   ]
  },
  {
   "cell_type": "markdown",
   "metadata": {},
   "source": [
    "We are going to use 2982 nodes for training and 1989 nodes for testing."
   ]
  },
  {
   "cell_type": "markdown",
   "metadata": {},
   "source": [
    "## Feature Normalization"
   ]
  },
  {
   "cell_type": "markdown",
   "metadata": {},
   "source": [
    "The continous features in our dataset have distributions with very long tails. We apply normalization to correct for this."
   ]
  },
  {
   "cell_type": "code",
   "execution_count": 20,
   "metadata": {},
   "outputs": [],
   "source": [
    "pt = preprocessing.PowerTransformer(method='yeo-johnson', \n",
    "                                    standardize=True) "
   ]
  },
  {
   "cell_type": "code",
   "execution_count": 21,
   "metadata": {},
   "outputs": [
    {
     "name": "stderr",
     "output_type": "stream",
     "text": [
      "/home/rj1408/anaconda3/envs/dgl_env/lib/python3.7/site-packages/pandas/core/indexing.py:543: SettingWithCopyWarning: \n",
      "A value is trying to be set on a copy of a slice from a DataFrame.\n",
      "Try using .loc[row_indexer,col_indexer] = value instead\n",
      "\n",
      "See the caveats in the documentation: http://pandas.pydata.org/pandas-docs/stable/indexing.html#indexing-view-versus-copy\n",
      "  self.obj[item] = s\n"
     ]
    }
   ],
   "source": [
    "normalizer = pt.fit(train_data)\n",
    "train_data_norm = normalizer.transform(train_data)\n",
    "test_data_norm = normalizer.transform(test_data)\n",
    "train_data.iloc[:, :] = train_data_norm\n",
    "test_data.iloc[:, :] = test_data_norm"
   ]
  },
  {
   "cell_type": "code",
   "execution_count": 22,
   "metadata": {},
   "outputs": [
    {
     "data": {
      "image/png": "[encoded data removed]",
      "text/plain": [
       "<Figure size 432x288 with 1 Axes>"
      ]
     },
     "metadata": {
      "needs_background": "light"
     },
     "output_type": "display_data"
    }
   ],
   "source": [
    "sns.kdeplot(train_data.iloc[:, 1])\n",
    "s = plt.ylabel(\"Density\", fontsize=18)\n",
    "s = plt.xlabel(\"Feature value\", fontsize=18)\n",
    "s = plt.title(\"Number of followers, before Power Transform\", fontsize=18)"
   ]
  },
  {
   "cell_type": "markdown",
   "metadata": {},
   "source": [
    "### Dealing with imbalanced data "
   ]
  },
  {
   "cell_type": "code",
   "execution_count": 24,
   "metadata": {},
   "outputs": [
    {
     "data": {
      "text/plain": [
       "{0: 0.5632791839818663, 1: 4.450746268656716}"
      ]
     },
     "execution_count": 24,
     "metadata": {},
     "output_type": "execute_result"
    }
   ],
   "source": [
    "from sklearn.utils.class_weight import compute_class_weight\n",
    "class_weights = compute_class_weight('balanced', \n",
    "                                     np.unique(train_targets), \n",
    "                                     train_targets[:,0])\n",
    "train_class_weights = dict(zip(np.unique(train_targets), \n",
    "                               class_weights))\n",
    "train_class_weights"
   ]
  },
  {
   "cell_type": "markdown",
   "metadata": {},
   "source": [
    "### Logistic Regression\n",
    "\n",
    "Train a Logistic Regression model entirely on the node features."
   ]
  },
  {
   "cell_type": "code",
   "execution_count": 25,
   "metadata": {},
   "outputs": [],
   "source": [
    "lr = LogisticRegressionCV(cv=5, \n",
    "                          class_weight=train_class_weights, \n",
    "                          max_iter=1000)  # Let's use the default parameters"
   ]
  },
  {
   "cell_type": "code",
   "execution_count": 26,
   "metadata": {},
   "outputs": [
    {
     "data": {
      "text/plain": [
       "LogisticRegressionCV(Cs=10,\n",
       "                     class_weight={0: 0.5632791839818663, 1: 4.450746268656716},\n",
       "                     cv=5, dual=False, fit_intercept=True,\n",
       "                     intercept_scaling=1.0, l1_ratios=None, max_iter=1000,\n",
       "                     multi_class='warn', n_jobs=None, penalty='l2',\n",
       "                     random_state=None, refit=True, scoring=None,\n",
       "                     solver='lbfgs', tol=0.0001, verbose=0)"
      ]
     },
     "execution_count": 26,
     "metadata": {},
     "output_type": "execute_result"
    }
   ],
   "source": [
    "lr.fit(train_data, train_targets.ravel())"
   ]
  },
  {
   "cell_type": "code",
   "execution_count": 90,
   "metadata": {},
   "outputs": [],
   "source": [
    "test_preds_lr = lr.predict_proba(test_data)"
   ]
  },
  {
   "cell_type": "markdown",
   "metadata": {},
   "source": [
    "#### Accuracy"
   ]
  },
  {
   "cell_type": "code",
   "execution_count": 91,
   "metadata": {},
   "outputs": [
    {
     "data": {
      "text/plain": [
       "0.8446455505279035"
      ]
     },
     "execution_count": 91,
     "metadata": {},
     "output_type": "execute_result"
    }
   ],
   "source": [
    "lr.score(test_data, test_targets)"
   ]
  },
  {
   "cell_type": "markdown",
   "metadata": {},
   "source": [
    "#### Calculate AU-ROC metric"
   ]
  },
  {
   "cell_type": "code",
   "execution_count": 92,
   "metadata": {},
   "outputs": [
    {
     "name": "stdout",
     "output_type": "stream",
     "text": [
      "The AUC on test set:\n",
      "\n",
      "0.8709047900650503\n"
     ]
    }
   ],
   "source": [
    "test_predictions_class_lr = ((test_preds_lr[:, 1]>0.5)*1).flatten()\n",
    "test_df_lr = pd.DataFrame({\"Predicted_score\": test_preds_lr[:, 1].flatten(), \n",
    "                        \"Predicted_class\": test_predictions_class_lr, \n",
    "                        \"True\": test_targets[:,0]})\n",
    "roc_auc_lr = metrics.roc_auc_score(test_df_lr['True'].values, test_df_lr['Predicted_score'].values)\n",
    "print(\"The AUC on test set:\\n\")\n",
    "print(roc_auc_lr)"
   ]
  },
  {
   "cell_type": "markdown",
   "metadata": {},
   "source": [
    "#### The ROC curve"
   ]
  },
  {
   "cell_type": "code",
   "execution_count": 94,
   "metadata": {},
   "outputs": [
    {
     "data": {
      "image/png": "[encoded data removed]",
      "text/plain": [
       "<Figure size 864x432 with 1 Axes>"
      ]
     },
     "metadata": {
      "needs_background": "light"
     },
     "output_type": "display_data"
    }
   ],
   "source": [
    "fpr_lr, tpr_lr, thresholds_lr = metrics.roc_curve(test_df_lr['True'], test_df_lr['Predicted_score'], pos_label=1)\n",
    "plt.figure(figsize=(12,6,))\n",
    "lw = 2\n",
    "plt.plot(fpr_lr, tpr_lr, color='darkorange',\n",
    "         lw=lw, label='LR ROC curve (area = %0.2f)' % roc_auc_lr)\n",
    "plt.plot([0, 1], [0, 1], color='navy', lw=lw, linestyle='--')\n",
    "plt.xlim([0.0, 1.0])\n",
    "plt.ylim([0.0, 1.05])\n",
    "plt.xlabel('False Positive Rate', fontsize=18)\n",
    "plt.ylabel('True Positive Rate', fontsize=18)\n",
    "plt.title('Receiver operating characteristic curve', fontsize=18)\n",
    "plt.legend(loc=\"lower right\")\n",
    "plt.savefig('/home/rj1408/dgnn/roc_lr.png')\n",
    "plt.show()"
   ]
  },
  {
   "cell_type": "markdown",
   "metadata": {},
   "source": [
    "## MLP"
   ]
  },
  {
   "cell_type": "code",
   "execution_count": 32,
   "metadata": {},
   "outputs": [],
   "source": [
    "distr_size = 64\n",
    "hidden_size = 128\n",
    "n_layers = 1\n",
    "\n",
    "num_gpus = torch.cuda.device_count()\n",
    "if num_gpus > 0:\n",
    "    current_device = 'cuda'\n",
    "else:\n",
    "    current_device = 'cpu'"
   ]
  },
  {
   "cell_type": "code",
   "execution_count": 33,
   "metadata": {},
   "outputs": [],
   "source": [
    "class UserDataset(Dataset):\n",
    "    \n",
    "    def __init__(self, pandas_df, label_nparray):\n",
    "        super().__init__()\n",
    "        self.pd_df = pandas_df\n",
    "        self.labels = label_nparray\n",
    "            \n",
    "    def __getitem__(self, i):\n",
    "        return torch.FloatTensor(np.array(self.pd_df.iloc[i])), self.labels[i][0]\n",
    "    \n",
    "    def __len__(self):\n",
    "        return self.pd_df.shape[0]"
   ]
  },
  {
   "cell_type": "code",
   "execution_count": 64,
   "metadata": {},
   "outputs": [],
   "source": [
    "def predict(model, device, val_loader):\n",
    "    model.eval()\n",
    "    for batch_num, (inputs, _) in enumerate(val_loader):\n",
    "        inputs = inputs.to(device)\n",
    "        logits = model(inputs).view(-1)\n",
    "        \n",
    "        if batch_num == 0:\n",
    "            all_logits = logits\n",
    "        else:\n",
    "            all_logits = torch.cat((all_logits, logits))\n",
    "    return all_logits"
   ]
  },
  {
   "cell_type": "code",
   "execution_count": 35,
   "metadata": {},
   "outputs": [],
   "source": [
    "#Code for supervised training\n",
    "def train_model(model, dataloaders, criterion, optimizer, scheduler, device, checkpoint_path, f, verbIter, hyperparams, num_epochs=25):\n",
    "    metrics_dict = {}\n",
    "    metrics_dict[\"train\"] = {}\n",
    "    metrics_dict[\"valid\"] = {}\n",
    "    metrics_dict[\"train\"][\"loss\"] = {}\n",
    "    metrics_dict[\"train\"][\"loss\"][\"epochwise\"] = []\n",
    "    metrics_dict[\"train\"][\"loss\"][\"stepwise\"] = []\n",
    "    metrics_dict[\"valid\"][\"loss\"] = {}\n",
    "    metrics_dict[\"valid\"][\"loss\"][\"epochwise\"] = []\n",
    "    metrics_dict[\"valid\"][\"loss\"][\"stepwise\"] = []\n",
    "    \n",
    "    best_model_wts = copy.deepcopy(model.state_dict())\n",
    "    best_loss = 9999999999999999\n",
    "\n",
    "    for epoch in range(num_epochs):\n",
    "        f.write('Epoch {}/{} \\n'.format(epoch, num_epochs - 1))\n",
    "        f.write('-' * 10)\n",
    "        f.write('\\n')\n",
    "        f.flush()\n",
    "\n",
    "        # Each epoch has a training and validation phase\n",
    "        for phase in ['train', 'valid']:\n",
    "            if phase == 'train':\n",
    "                scheduler.step()\n",
    "                model.train()  # Set model to training mode\n",
    "            else:\n",
    "                model.eval()   # Set model to evaluate mode\n",
    "\n",
    "            running_loss = 0.0\n",
    "            n_samples = 0\n",
    "            \n",
    "            # Iterate over data.\n",
    "            for batch_num, (inputs, labels) in enumerate(dataloaders[phase]):\n",
    "                inputs = inputs.to(device)\n",
    "                labels = labels.float().to(device)\n",
    "                                \n",
    "                # zero the parameter gradients\n",
    "                optimizer.zero_grad()\n",
    "                batchSize = inputs.size(0)\n",
    "                n_samples += batchSize\n",
    "                \n",
    "                with torch.set_grad_enabled(phase == 'train'):\n",
    "                    outputs = model(inputs)\n",
    "                    loss = criterion(outputs, labels.view(-1,1))\n",
    "                    \n",
    "                    # statistics\n",
    "                    running_loss += loss.item()\n",
    "                    \n",
    "                    # backward + optimize only if in training phase\n",
    "                    if phase == 'train':\n",
    "                        loss.backward()\n",
    "                        optimizer.step()\n",
    "                \n",
    "                if batch_num % verbIter == 0:\n",
    "                    # Metrics\n",
    "                    epoch_loss = running_loss /n_samples\n",
    "\n",
    "                    f.write('{} Loss: {:.4f} \\n'.format(phase, epoch_loss))\n",
    "                    f.flush()\n",
    "                    \n",
    "                    metrics_dict[phase][\"loss\"][\"stepwise\"].append(epoch_loss)\n",
    "                \n",
    "            # Metrics\n",
    "            epoch_loss = running_loss /n_samples\n",
    "\n",
    "            f.write('{} Loss: {:.4f} \\n'.format(phase, epoch_loss))\n",
    "            f.flush()\n",
    "            \n",
    "            metrics_dict[phase][\"loss\"][\"epochwise\"].append(epoch_loss)\n",
    "            # deep copy the model\n",
    "            if phase == 'valid' and epoch_loss < best_loss:\n",
    "                best_loss = epoch_loss\n",
    "                best_model_wts = copy.deepcopy(model.state_dict())\n",
    "                \n",
    "            torch.save({\n",
    "            'epoch': epoch,\n",
    "            'model_state_dict': model.state_dict(),\n",
    "            'full_metrics': metrics_dict,\n",
    "            'hyperparams': hyperparams\n",
    "            }, '%s/net_epoch_%d.pth' % (checkpoint_path, epoch))\n",
    "\n",
    "    f.write('Best val loss: {:4f} \\n'.format(best_loss))\n",
    "    f.flush()\n",
    "\n",
    "    # load best model weights\n",
    "    model.load_state_dict(best_model_wts)\n",
    "    return model"
   ]
  },
  {
   "cell_type": "code",
   "execution_count": 36,
   "metadata": {},
   "outputs": [],
   "source": [
    "class MLP(nn.Module):\n",
    "    def __init__(self,\n",
    "                 inp_size,\n",
    "                 distr_hidden,\n",
    "                 mlp_hidden,\n",
    "                 n_layers,\n",
    "                 dropout):\n",
    "        super(MLP, self).__init__()\n",
    "        self.distrlayer = nn.Linear(inp_size, distr_hidden)\n",
    "        self.layers = nn.ModuleList()\n",
    "        # hidden layers\n",
    "        for i in range(n_layers):\n",
    "            self.layers.append(nn.Linear(distr_hidden, mlp_hidden))\n",
    "        # output layer\n",
    "        self.nonlinear = nn.ReLU()\n",
    "        self.outlayer = nn.Linear(mlp_hidden, 1)\n",
    "        self.dropout = nn.Dropout(p=dropout)\n",
    "\n",
    "    def forward(self, features):\n",
    "        h = self.distrlayer(features)\n",
    "        h = self.nonlinear(h)\n",
    "        h = self.dropout(h)\n",
    "        for i, layer in enumerate(self.layers):\n",
    "            h = layer(h)\n",
    "            h = self.nonlinear(h)\n",
    "            h = self.dropout(h)\n",
    "        h = self.outlayer(h)\n",
    "        return h"
   ]
  },
  {
   "cell_type": "code",
   "execution_count": 37,
   "metadata": {},
   "outputs": [
    {
     "name": "stderr",
     "output_type": "stream",
     "text": [
      "/home/rj1408/anaconda3/envs/dgl_env/lib/python3.7/site-packages/torch/optim/lr_scheduler.py:82: UserWarning: Detected call of `lr_scheduler.step()` before `optimizer.step()`. In PyTorch 1.1.0 and later, you should call them in the opposite order: `optimizer.step()` before `lr_scheduler.step()`.  Failure to do this will result in PyTorch skipping the first value of the learning rate schedule.See more details at https://pytorch.org/docs/stable/optim.html#how-to-adjust-learning-rate\n",
      "  \"https://pytorch.org/docs/stable/optim.html#how-to-adjust-learning-rate\", UserWarning)\n"
     ]
    }
   ],
   "source": [
    "model_dir = '/misc/vlgscratch4/BrunaGroup/rj1408/dynamic_nn/models/static_gcn/twitter/mlp/1layer_64dist_128hid/'\n",
    "train_dataset = UserDataset(train_data, train_targets)\n",
    "test_dataset = UserDataset(test_data, test_targets)\n",
    "train_loader = DataLoader(train_dataset, batch_size=64, shuffle=True, pin_memory=True)\n",
    "test_loader = DataLoader(test_dataset, batch_size=64, shuffle=False, pin_memory=True)\n",
    "dataloaders = {}\n",
    "dataloaders[\"train\"] = train_loader\n",
    "dataloaders[\"valid\"] = test_loader\n",
    "model = MLP(train_data.shape[1], distr_size, hidden_size, n_layers, 0.2)\n",
    "model.to(current_device)\n",
    "criterion = nn.BCEWithLogitsLoss().to(current_device)#pos_weight=torch.FloatTensor([train_class_weights[1]]).to(current_device))\n",
    "model_parameters = [p for p in model.parameters() if p.requires_grad]\n",
    "optimizer = optim.Adam(model_parameters, lr=0.01, weight_decay = 5e-3)\n",
    "exp_lr_scheduler = lr_scheduler.StepLR(optimizer, step_size=15, gamma=0.1)\n",
    "f = open(os.path.join(model_dir,'training_logs.txt'), 'w+')\n",
    "options = {\n",
    "    \"n_layers\":1,\n",
    "    \"distr_size\":64,\n",
    "    \"mlp_size\":128\n",
    "}\n",
    "bst_model = train_model(model, dataloaders, criterion, optimizer, exp_lr_scheduler, current_device, model_dir, f, 10, options, 32)"
   ]
  },
  {
   "cell_type": "markdown",
   "metadata": {},
   "source": [
    "## Evaluation of MLP"
   ]
  },
  {
   "cell_type": "code",
   "execution_count": 86,
   "metadata": {},
   "outputs": [
    {
     "name": "stdout",
     "output_type": "stream",
     "text": [
      "The AUC on test set:\n",
      "\n",
      "0.8916429224235255\n"
     ]
    }
   ],
   "source": [
    "predictions_logits = predict(bst_model, current_device, test_loader)\n",
    "sigLayer = nn.Sigmoid()\n",
    "predictions_scores = sigLayer(predictions_logits).cpu().detach().numpy()\n",
    "targets = test_targets.squeeze(1)\n",
    "\n",
    "roc_auc_mlp = metrics.roc_auc_score(targets, predictions_scores)\n",
    "print(\"The AUC on test set:\\n\")\n",
    "print(roc_auc_mlp)"
   ]
  },
  {
   "cell_type": "code",
   "execution_count": 96,
   "metadata": {},
   "outputs": [
    {
     "data": {
      "image/png": "[encoded data removed]",
      "text/plain": [
       "<Figure size 864x432 with 1 Axes>"
      ]
     },
     "metadata": {
      "needs_background": "light"
     },
     "output_type": "display_data"
    }
   ],
   "source": [
    "fpr_mlp, tpr_mlp, thresholds_mlp = metrics.roc_curve(targets, predictions_scores, pos_label=1)\n",
    "plt.figure(figsize=(12,6,))\n",
    "lw = 2\n",
    "\n",
    "plt.plot(fpr_lr, tpr_lr, color='darkorange',\n",
    "         lw=lw, label='LR ROC curve (area = %0.2f)' % roc_auc_lr)\n",
    "\n",
    "plt.plot(fpr_mlp, tpr_mlp, color='darkblue',\n",
    "         lw=lw, label='MLP ROC curve (area = %0.2f)' % roc_auc_mlp)\n",
    "\n",
    "plt.plot([0, 1], [0, 1], color='navy', lw=lw, linestyle='--')\n",
    "plt.xlim([0.0, 1.0])\n",
    "plt.ylim([0.0, 1.05])\n",
    "plt.xlabel('False Positive Rate', fontsize=18)\n",
    "plt.ylabel('True Positive Rate', fontsize=18)\n",
    "plt.title('Receiver operating characteristic curve', fontsize=18)\n",
    "plt.legend(loc=\"lower right\")\n",
    "plt.savefig(\"/home/rj1408/dgnn/roc_mlp.png\")\n",
    "plt.show()"
   ]
  },
  {
   "cell_type": "code",
   "execution_count": null,
   "metadata": {},
   "outputs": [],
   "source": []
  }
 ],
 "metadata": {
  "kernelspec": {
   "display_name": "Python 3",
   "language": "python",
   "name": "python3"
  },
  "language_info": {
   "codemirror_mode": {
    "name": "ipython",
    "version": 3
   },
   "file_extension": ".py",
   "mimetype": "text/x-python",
   "name": "python",
   "nbconvert_exporter": "python",
   "pygments_lexer": "ipython3",
   "version": "3.7.3"
  }
 },
 "nbformat": 4,
 "nbformat_minor": 4
}
