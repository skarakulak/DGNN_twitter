{
 "cells": [
  {
   "cell_type": "code",
   "execution_count": 80,
   "metadata": {},
   "outputs": [],
   "source": [
    "import argparse, time\n",
    "import numpy as np\n",
    "import torch\n",
    "import torch.nn as nn\n",
    "import torch.nn.functional as F\n",
    "from dgl import DGLGraph\n",
    "from dgl.data import register_data_args, load_data\n",
    "from dgl.data import BitcoinOTC\n",
    "import datetime\n",
    "from dgl.nn.pytorch import GraphConv\n",
    "import time\n",
    "from sklearn.metrics import f1_score\n",
    "import os\n",
    "import json\n",
    "from collections import defaultdict, Counter\n",
    "from tqdm import tqdm\n",
    "import torch.optim as optim\n",
    "from torch.optim import lr_scheduler\n",
    "import time\n",
    "import copy\n",
    "import matplotlib.pyplot as plt\n",
    "from os import listdir\n",
    "from os.path import isfile, join\n",
    "import networkx as nx\n",
    "from dgl import DGLGraph\n",
    "from dgl.nn.pytorch.conv import SAGEConv\n",
    "import itertools\n",
    "from sklearn import preprocessing, feature_extraction\n",
    "from sklearn.model_selection import train_test_split\n",
    "from sklearn import metrics\n",
    "from sklearn.utils.class_weight import compute_class_weight\n",
    "from sklearn.linear_model import LogisticRegressionCV\n",
    "import torch\n",
    "import torch.nn as nn\n",
    "import torch.nn.functional as F\n",
    "from torch.utils.data import Dataset, DataLoader\n",
    "import torch.optim as optim\n",
    "from torch.optim import lr_scheduler\n",
    "import pickle\n",
    "\n",
    "import matplotlib.pyplot as plt"
   ]
  },
  {
   "cell_type": "markdown",
   "metadata": {},
   "source": [
    "## Hyperparameters"
   ]
  },
  {
   "cell_type": "code",
   "execution_count": 3,
   "metadata": {},
   "outputs": [],
   "source": [
    "num_nodes = 100386"
   ]
  },
  {
   "cell_type": "code",
   "execution_count": 4,
   "metadata": {},
   "outputs": [],
   "source": [
    "out_path = '/misc/vlgscratch4/BrunaGroup/rj1408/dynamic_nn/models/twitter/lrmlp/'\n",
    "data_path = '../twitter_data/public/'\n",
    "activation = F.leaky_relu"
   ]
  },
  {
   "cell_type": "code",
   "execution_count": 5,
   "metadata": {},
   "outputs": [],
   "source": [
    "num_gpus = torch.cuda.device_count()\n",
    "if num_gpus > 0:\n",
    "    device = 'cuda'\n",
    "else:\n",
    "    device = 'cpu'"
   ]
  },
  {
   "cell_type": "markdown",
   "metadata": {},
   "source": [
    "## Data loading"
   ]
  },
  {
   "cell_type": "code",
   "execution_count": 6,
   "metadata": {},
   "outputs": [],
   "source": [
    "def load_hate(features, edges, num_features):\n",
    "    num_nodes = 100386\n",
    "    num_feats = num_features\n",
    "    feat_data = np.zeros((num_nodes, num_feats))\n",
    "    labels = np.empty((num_nodes, 1), dtype=np.int64)\n",
    "    node_map = {}\n",
    "    label_map = {}\n",
    "\n",
    "    with open(features) as fp:\n",
    "        for i, line in enumerate(fp):\n",
    "            info = line.strip().split()\n",
    "            feat_data[i, :] = list(map(float, info[1:-1]))\n",
    "            node_map[info[0]] = i\n",
    "            if not info[-1] in label_map:\n",
    "                label_map[info[-1]] = len(label_map)\n",
    "            labels[i] = label_map[info[-1]]\n",
    "\n",
    "    adj_lists = defaultdict(set)\n",
    "    with open(edges) as fp:\n",
    "        for i, line in enumerate(fp):\n",
    "            info = line.strip().split()\n",
    "            paper1 = node_map[info[0]]\n",
    "            paper2 = node_map[info[1]]\n",
    "            adj_lists[paper1].add(paper2)\n",
    "            adj_lists[paper2].add(paper1)\n",
    "\n",
    "    print(label_map)\n",
    "    temp = [[[k]*len(v), list(v)] for k,v in adj_lists.items()]\n",
    "    temp2 = list(zip(*temp))\n",
    "    src = list(itertools.chain.from_iterable(temp2[0]))\n",
    "    dst = list(itertools.chain.from_iterable(temp2[1]))\n",
    "    return torch.tensor(feat_data).float(), torch.tensor(labels).int().flatten(), (src, dst)"
   ]
  },
  {
   "cell_type": "code",
   "execution_count": 7,
   "metadata": {},
   "outputs": [
    {
     "name": "stdout",
     "output_type": "stream",
     "text": [
      "{'normal': 0, 'other': 1, 'hateful': 2}\n",
      "(4971, 320)\n",
      "(4971,)\n"
     ]
    }
   ],
   "source": [
    "feat_data, labels, adj_lists = load_hate(os.path.join(data_path, 'hate/users_hate_all.content'), os.path.join(data_path, 'hate/users.edges'), 320)\n",
    "feat_data = feat_data.numpy()\n",
    "labels = labels.numpy()\n",
    "\n",
    "feat_data = feat_data[labels != 1]\n",
    "labels = labels[labels != 1]\n",
    "labels[labels == 2] = 1\n",
    "\n",
    "print(feat_data.shape)\n",
    "print(labels.shape)"
   ]
  },
  {
   "cell_type": "code",
   "execution_count": 8,
   "metadata": {},
   "outputs": [
    {
     "name": "stdout",
     "output_type": "stream",
     "text": [
      "Sizes and class distributions for train/test data\n",
      "Shape train_data (2982, 320)\n",
      "Shape test_data (1989, 320)\n",
      "Train data number of 0s 2647 and 1s 335\n",
      "Test data number of 0s 1780 and 1s 209\n"
     ]
    }
   ],
   "source": [
    "train_data, test_data, train_targets, test_targets = train_test_split(feat_data,\n",
    "                                         labels,\n",
    "                                         test_size=0.40,\n",
    "                                         random_state=101)\n",
    "\n",
    "print(\"Sizes and class distributions for train/test data\")\n",
    "print(\"Shape train_data {}\".format(train_data.shape))\n",
    "print(\"Shape test_data {}\".format(test_data.shape))\n",
    "print(\"Train data number of 0s {} and 1s {}\".format(np.sum(train_targets==0), \n",
    "                                                    np.sum(train_targets==1)))\n",
    "print(\"Test data number of 0s {} and 1s {}\".format(np.sum(test_targets==0), \n",
    "                                                   np.sum(test_targets==1)))"
   ]
  },
  {
   "cell_type": "code",
   "execution_count": 15,
   "metadata": {},
   "outputs": [],
   "source": [
    "pt = preprocessing.PowerTransformer(method='yeo-johnson', \n",
    "                                    standardize=True) \n",
    "normalizer = pt.fit(train_data)\n",
    "train_data_norm = normalizer.transform(train_data)\n",
    "test_data_norm = normalizer.transform(test_data)\n",
    "train_data[:, :] = train_data_norm\n",
    "test_data[:, :] = test_data_norm"
   ]
  },
  {
   "cell_type": "code",
   "execution_count": 9,
   "metadata": {},
   "outputs": [
    {
     "data": {
      "text/plain": [
       "{0: 0.5632791839818663, 1: 4.450746268656716}"
      ]
     },
     "execution_count": 9,
     "metadata": {},
     "output_type": "execute_result"
    }
   ],
   "source": [
    "from sklearn.utils.class_weight import compute_class_weight\n",
    "class_weights = compute_class_weight('balanced', \n",
    "                                     np.unique(train_targets), \n",
    "                                     train_targets)\n",
    "train_class_weights = dict(zip(np.unique(train_targets), \n",
    "                               class_weights))\n",
    "train_class_weights"
   ]
  },
  {
   "cell_type": "markdown",
   "metadata": {},
   "source": [
    "## Logistic Regression"
   ]
  },
  {
   "cell_type": "code",
   "execution_count": 30,
   "metadata": {},
   "outputs": [
    {
     "name": "stderr",
     "output_type": "stream",
     "text": [
      "/home/rj1408/anaconda3/envs/dgl_env/lib/python3.7/site-packages/sklearn/linear_model/logistic.py:947: ConvergenceWarning: lbfgs failed to converge. Increase the number of iterations.\n",
      "  \"of iterations.\", ConvergenceWarning)\n",
      "/home/rj1408/anaconda3/envs/dgl_env/lib/python3.7/site-packages/sklearn/linear_model/logistic.py:947: ConvergenceWarning: lbfgs failed to converge. Increase the number of iterations.\n",
      "  \"of iterations.\", ConvergenceWarning)\n",
      "/home/rj1408/anaconda3/envs/dgl_env/lib/python3.7/site-packages/sklearn/linear_model/logistic.py:947: ConvergenceWarning: lbfgs failed to converge. Increase the number of iterations.\n",
      "  \"of iterations.\", ConvergenceWarning)\n",
      "/home/rj1408/anaconda3/envs/dgl_env/lib/python3.7/site-packages/sklearn/linear_model/logistic.py:947: ConvergenceWarning: lbfgs failed to converge. Increase the number of iterations.\n",
      "  \"of iterations.\", ConvergenceWarning)\n",
      "/home/rj1408/anaconda3/envs/dgl_env/lib/python3.7/site-packages/sklearn/linear_model/logistic.py:947: ConvergenceWarning: lbfgs failed to converge. Increase the number of iterations.\n",
      "  \"of iterations.\", ConvergenceWarning)\n",
      "/home/rj1408/anaconda3/envs/dgl_env/lib/python3.7/site-packages/sklearn/linear_model/logistic.py:947: ConvergenceWarning: lbfgs failed to converge. Increase the number of iterations.\n",
      "  \"of iterations.\", ConvergenceWarning)\n",
      "/home/rj1408/anaconda3/envs/dgl_env/lib/python3.7/site-packages/sklearn/linear_model/logistic.py:947: ConvergenceWarning: lbfgs failed to converge. Increase the number of iterations.\n",
      "  \"of iterations.\", ConvergenceWarning)\n",
      "/home/rj1408/anaconda3/envs/dgl_env/lib/python3.7/site-packages/sklearn/linear_model/logistic.py:947: ConvergenceWarning: lbfgs failed to converge. Increase the number of iterations.\n",
      "  \"of iterations.\", ConvergenceWarning)\n",
      "/home/rj1408/anaconda3/envs/dgl_env/lib/python3.7/site-packages/sklearn/linear_model/logistic.py:947: ConvergenceWarning: lbfgs failed to converge. Increase the number of iterations.\n",
      "  \"of iterations.\", ConvergenceWarning)\n",
      "/home/rj1408/anaconda3/envs/dgl_env/lib/python3.7/site-packages/sklearn/linear_model/logistic.py:947: ConvergenceWarning: lbfgs failed to converge. Increase the number of iterations.\n",
      "  \"of iterations.\", ConvergenceWarning)\n",
      "/home/rj1408/anaconda3/envs/dgl_env/lib/python3.7/site-packages/sklearn/linear_model/logistic.py:947: ConvergenceWarning: lbfgs failed to converge. Increase the number of iterations.\n",
      "  \"of iterations.\", ConvergenceWarning)\n",
      "/home/rj1408/anaconda3/envs/dgl_env/lib/python3.7/site-packages/sklearn/linear_model/logistic.py:947: ConvergenceWarning: lbfgs failed to converge. Increase the number of iterations.\n",
      "  \"of iterations.\", ConvergenceWarning)\n",
      "/home/rj1408/anaconda3/envs/dgl_env/lib/python3.7/site-packages/sklearn/linear_model/logistic.py:947: ConvergenceWarning: lbfgs failed to converge. Increase the number of iterations.\n",
      "  \"of iterations.\", ConvergenceWarning)\n",
      "/home/rj1408/anaconda3/envs/dgl_env/lib/python3.7/site-packages/sklearn/linear_model/logistic.py:947: ConvergenceWarning: lbfgs failed to converge. Increase the number of iterations.\n",
      "  \"of iterations.\", ConvergenceWarning)\n",
      "/home/rj1408/anaconda3/envs/dgl_env/lib/python3.7/site-packages/sklearn/linear_model/logistic.py:947: ConvergenceWarning: lbfgs failed to converge. Increase the number of iterations.\n",
      "  \"of iterations.\", ConvergenceWarning)\n",
      "/home/rj1408/anaconda3/envs/dgl_env/lib/python3.7/site-packages/sklearn/linear_model/logistic.py:947: ConvergenceWarning: lbfgs failed to converge. Increase the number of iterations.\n",
      "  \"of iterations.\", ConvergenceWarning)\n",
      "/home/rj1408/anaconda3/envs/dgl_env/lib/python3.7/site-packages/sklearn/linear_model/logistic.py:947: ConvergenceWarning: lbfgs failed to converge. Increase the number of iterations.\n",
      "  \"of iterations.\", ConvergenceWarning)\n",
      "/home/rj1408/anaconda3/envs/dgl_env/lib/python3.7/site-packages/sklearn/linear_model/logistic.py:947: ConvergenceWarning: lbfgs failed to converge. Increase the number of iterations.\n",
      "  \"of iterations.\", ConvergenceWarning)\n",
      "/home/rj1408/anaconda3/envs/dgl_env/lib/python3.7/site-packages/sklearn/linear_model/logistic.py:947: ConvergenceWarning: lbfgs failed to converge. Increase the number of iterations.\n",
      "  \"of iterations.\", ConvergenceWarning)\n",
      "/home/rj1408/anaconda3/envs/dgl_env/lib/python3.7/site-packages/sklearn/linear_model/logistic.py:947: ConvergenceWarning: lbfgs failed to converge. Increase the number of iterations.\n",
      "  \"of iterations.\", ConvergenceWarning)\n",
      "/home/rj1408/anaconda3/envs/dgl_env/lib/python3.7/site-packages/sklearn/linear_model/logistic.py:947: ConvergenceWarning: lbfgs failed to converge. Increase the number of iterations.\n",
      "  \"of iterations.\", ConvergenceWarning)\n",
      "/home/rj1408/anaconda3/envs/dgl_env/lib/python3.7/site-packages/sklearn/linear_model/logistic.py:947: ConvergenceWarning: lbfgs failed to converge. Increase the number of iterations.\n",
      "  \"of iterations.\", ConvergenceWarning)\n",
      "/home/rj1408/anaconda3/envs/dgl_env/lib/python3.7/site-packages/sklearn/linear_model/logistic.py:947: ConvergenceWarning: lbfgs failed to converge. Increase the number of iterations.\n",
      "  \"of iterations.\", ConvergenceWarning)\n",
      "/home/rj1408/anaconda3/envs/dgl_env/lib/python3.7/site-packages/sklearn/linear_model/logistic.py:947: ConvergenceWarning: lbfgs failed to converge. Increase the number of iterations.\n",
      "  \"of iterations.\", ConvergenceWarning)\n",
      "/home/rj1408/anaconda3/envs/dgl_env/lib/python3.7/site-packages/sklearn/linear_model/logistic.py:947: ConvergenceWarning: lbfgs failed to converge. Increase the number of iterations.\n",
      "  \"of iterations.\", ConvergenceWarning)\n",
      "/home/rj1408/anaconda3/envs/dgl_env/lib/python3.7/site-packages/sklearn/linear_model/logistic.py:947: ConvergenceWarning: lbfgs failed to converge. Increase the number of iterations.\n",
      "  \"of iterations.\", ConvergenceWarning)\n",
      "/home/rj1408/anaconda3/envs/dgl_env/lib/python3.7/site-packages/sklearn/linear_model/logistic.py:947: ConvergenceWarning: lbfgs failed to converge. Increase the number of iterations.\n",
      "  \"of iterations.\", ConvergenceWarning)\n",
      "/home/rj1408/anaconda3/envs/dgl_env/lib/python3.7/site-packages/sklearn/linear_model/logistic.py:947: ConvergenceWarning: lbfgs failed to converge. Increase the number of iterations.\n",
      "  \"of iterations.\", ConvergenceWarning)\n",
      "/home/rj1408/anaconda3/envs/dgl_env/lib/python3.7/site-packages/sklearn/linear_model/logistic.py:947: ConvergenceWarning: lbfgs failed to converge. Increase the number of iterations.\n",
      "  \"of iterations.\", ConvergenceWarning)\n",
      "/home/rj1408/anaconda3/envs/dgl_env/lib/python3.7/site-packages/sklearn/linear_model/logistic.py:947: ConvergenceWarning: lbfgs failed to converge. Increase the number of iterations.\n",
      "  \"of iterations.\", ConvergenceWarning)\n",
      "/home/rj1408/anaconda3/envs/dgl_env/lib/python3.7/site-packages/sklearn/linear_model/logistic.py:947: ConvergenceWarning: lbfgs failed to converge. Increase the number of iterations.\n",
      "  \"of iterations.\", ConvergenceWarning)\n",
      "/home/rj1408/anaconda3/envs/dgl_env/lib/python3.7/site-packages/sklearn/linear_model/logistic.py:947: ConvergenceWarning: lbfgs failed to converge. Increase the number of iterations.\n",
      "  \"of iterations.\", ConvergenceWarning)\n",
      "/home/rj1408/anaconda3/envs/dgl_env/lib/python3.7/site-packages/sklearn/linear_model/logistic.py:947: ConvergenceWarning: lbfgs failed to converge. Increase the number of iterations.\n",
      "  \"of iterations.\", ConvergenceWarning)\n",
      "/home/rj1408/anaconda3/envs/dgl_env/lib/python3.7/site-packages/sklearn/linear_model/logistic.py:947: ConvergenceWarning: lbfgs failed to converge. Increase the number of iterations.\n",
      "  \"of iterations.\", ConvergenceWarning)\n",
      "/home/rj1408/anaconda3/envs/dgl_env/lib/python3.7/site-packages/sklearn/linear_model/logistic.py:947: ConvergenceWarning: lbfgs failed to converge. Increase the number of iterations.\n",
      "  \"of iterations.\", ConvergenceWarning)\n",
      "/home/rj1408/anaconda3/envs/dgl_env/lib/python3.7/site-packages/sklearn/linear_model/logistic.py:947: ConvergenceWarning: lbfgs failed to converge. Increase the number of iterations.\n",
      "  \"of iterations.\", ConvergenceWarning)\n",
      "/home/rj1408/anaconda3/envs/dgl_env/lib/python3.7/site-packages/sklearn/linear_model/logistic.py:947: ConvergenceWarning: lbfgs failed to converge. Increase the number of iterations.\n",
      "  \"of iterations.\", ConvergenceWarning)\n",
      "/home/rj1408/anaconda3/envs/dgl_env/lib/python3.7/site-packages/sklearn/linear_model/logistic.py:947: ConvergenceWarning: lbfgs failed to converge. Increase the number of iterations.\n",
      "  \"of iterations.\", ConvergenceWarning)\n",
      "/home/rj1408/anaconda3/envs/dgl_env/lib/python3.7/site-packages/sklearn/linear_model/logistic.py:947: ConvergenceWarning: lbfgs failed to converge. Increase the number of iterations.\n",
      "  \"of iterations.\", ConvergenceWarning)\n",
      "/home/rj1408/anaconda3/envs/dgl_env/lib/python3.7/site-packages/sklearn/linear_model/logistic.py:947: ConvergenceWarning: lbfgs failed to converge. Increase the number of iterations.\n",
      "  \"of iterations.\", ConvergenceWarning)\n",
      "/home/rj1408/anaconda3/envs/dgl_env/lib/python3.7/site-packages/sklearn/linear_model/logistic.py:947: ConvergenceWarning: lbfgs failed to converge. Increase the number of iterations.\n",
      "  \"of iterations.\", ConvergenceWarning)\n",
      "/home/rj1408/anaconda3/envs/dgl_env/lib/python3.7/site-packages/sklearn/linear_model/logistic.py:947: ConvergenceWarning: lbfgs failed to converge. Increase the number of iterations.\n",
      "  \"of iterations.\", ConvergenceWarning)\n"
     ]
    }
   ],
   "source": [
    "col_sel = [0.03125,0.0625,0.125,1]\n",
    "accuracy_map = {}\n",
    "auc_map = {}\n",
    "\n",
    "for num_cols in col_sel:\n",
    "    all_accuracies = []\n",
    "    all_aucs = []\n",
    "\n",
    "    for iters in range(3):\n",
    "        \n",
    "        lr = LogisticRegressionCV(cv=5, \n",
    "                          class_weight=train_class_weights, \n",
    "                          max_iter=1000)  # Let's use the default parameters\n",
    "        \n",
    "        #select some random columns\n",
    "        train_sub_data = train_data[:, : int(train_data.shape[1]*num_cols)]\n",
    "        test_sub_data = test_data[:, : int(test_data.shape[1]*num_cols)]\n",
    "        \n",
    "        lr.fit(train_sub_data, train_targets.ravel())\n",
    "        test_preds_lr = lr.predict_proba(test_sub_data)\n",
    "\n",
    "        accuracy = lr.score(test_sub_data, test_targets)\n",
    "\n",
    "        #Auc\n",
    "        test_predictions_class_lr = ((test_preds_lr[:, 1]>0.5)*1).flatten()\n",
    "        roc_auc_lr = metrics.roc_auc_score(test_targets, test_preds_lr[:, 1].flatten())\n",
    "        all_accuracies.append(accuracy)\n",
    "        all_aucs.append(roc_auc_lr)\n",
    "    \n",
    "    accuracy_map[num_cols] = all_accuracies\n",
    "    auc_map[num_cols] = all_aucs"
   ]
  },
  {
   "cell_type": "code",
   "execution_count": 32,
   "metadata": {},
   "outputs": [
    {
     "name": "stdout",
     "output_type": "stream",
     "text": [
      "Accuracies:  [0.7285067873303167, 0.7616892911010558, 0.8190045248868779, 0.8506787330316742]\n",
      "Aucs:  [0.7796785119079619, 0.8351190796193753, 0.8784957797967851, 0.8900704263211656]\n"
     ]
    }
   ],
   "source": [
    "accuracy_thresh = list(map(lambda kvp: np.mean(kvp[1]), accuracy_map.items()))\n",
    "auc_thresh = list(map(lambda kvp: np.mean(kvp[1]), auc_map.items()))\n",
    "print(\"Accuracies: \", accuracy_thresh)\n",
    "print(\"Aucs: \", auc_thresh)"
   ]
  },
  {
   "cell_type": "code",
   "execution_count": 43,
   "metadata": {},
   "outputs": [
    {
     "data": {
      "text/plain": [
       "<BarContainer object of 4 artists>"
      ]
     },
     "execution_count": 43,
     "metadata": {},
     "output_type": "execute_result"
    },
    {
     "data": {
      "image/png": "[encoded data removed]",
      "text/plain": [
       "<Figure size 432x288 with 1 Axes>"
      ]
     },
     "metadata": {
      "needs_background": "light"
     },
     "output_type": "display_data"
    }
   ],
   "source": [
    "plt.bar(col_sel, accuracy_thresh, width = 0.02)"
   ]
  },
  {
   "cell_type": "code",
   "execution_count": 44,
   "metadata": {},
   "outputs": [
    {
     "data": {
      "text/plain": [
       "<BarContainer object of 4 artists>"
      ]
     },
     "execution_count": 44,
     "metadata": {},
     "output_type": "execute_result"
    },
    {
     "data": {
      "image/png": "[encoded data removed]",
      "text/plain": [
       "<Figure size 432x288 with 1 Axes>"
      ]
     },
     "metadata": {
      "needs_background": "light"
     },
     "output_type": "display_data"
    }
   ],
   "source": [
    "plt.bar(col_sel, auc_thresh, width = 0.02)"
   ]
  },
  {
   "cell_type": "markdown",
   "metadata": {},
   "source": [
    "# MLP"
   ]
  },
  {
   "cell_type": "code",
   "execution_count": 45,
   "metadata": {},
   "outputs": [],
   "source": [
    "hidden_size = 128\n",
    "n_layers = 1\n",
    "drpout = 0\n",
    "wtdecay = 0\n",
    "\n",
    "num_gpus = torch.cuda.device_count()\n",
    "if num_gpus > 0:\n",
    "    current_device = 'cuda'\n",
    "else:\n",
    "    current_device = 'cpu'"
   ]
  },
  {
   "cell_type": "code",
   "execution_count": 51,
   "metadata": {},
   "outputs": [],
   "source": [
    "class UserDataset(Dataset):\n",
    "    \n",
    "    def __init__(self, np_df, label_nparray):\n",
    "        super().__init__()\n",
    "        self.np_df = np_df\n",
    "        self.labels = label_nparray\n",
    "            \n",
    "    def __getitem__(self, i):\n",
    "        return torch.from_numpy(self.np_df[i]).float(), self.labels[i]\n",
    "    \n",
    "    def __len__(self):\n",
    "        return self.np_df.shape[0]"
   ]
  },
  {
   "cell_type": "code",
   "execution_count": 52,
   "metadata": {},
   "outputs": [],
   "source": [
    "def predict(model, device, val_loader):\n",
    "    model.eval()\n",
    "    for batch_num, (inputs, _) in enumerate(val_loader):\n",
    "        inputs = inputs.to(device)\n",
    "        logits = model(inputs).view(-1)\n",
    "        \n",
    "        if batch_num == 0:\n",
    "            all_logits = logits\n",
    "        else:\n",
    "            all_logits = torch.cat((all_logits, logits))\n",
    "    return all_logits"
   ]
  },
  {
   "cell_type": "code",
   "execution_count": 53,
   "metadata": {},
   "outputs": [],
   "source": [
    "#Code for supervised training\n",
    "def train_model(model, dataloaders, criterion, optimizer, scheduler, device, checkpoint_path, f, verbIter, hyperparams, num_epochs=25):\n",
    "    metrics_dict = {}\n",
    "    metrics_dict[\"train\"] = {}\n",
    "    metrics_dict[\"valid\"] = {}\n",
    "    metrics_dict[\"train\"][\"loss\"] = {}\n",
    "    metrics_dict[\"train\"][\"loss\"][\"epochwise\"] = []\n",
    "    metrics_dict[\"train\"][\"loss\"][\"stepwise\"] = []\n",
    "    metrics_dict[\"valid\"][\"loss\"] = {}\n",
    "    metrics_dict[\"valid\"][\"loss\"][\"epochwise\"] = []\n",
    "    metrics_dict[\"valid\"][\"loss\"][\"stepwise\"] = []\n",
    "    \n",
    "    best_model_wts = copy.deepcopy(model.state_dict())\n",
    "    best_loss = 9999999999999999\n",
    "\n",
    "    for epoch in range(num_epochs):\n",
    "        f.write('Epoch {}/{} \\n'.format(epoch, num_epochs - 1))\n",
    "        f.write('-' * 10)\n",
    "        f.write('\\n')\n",
    "        f.flush()\n",
    "\n",
    "        # Each epoch has a training and validation phase\n",
    "        for phase in ['train', 'valid']:\n",
    "            if phase == 'train':\n",
    "                scheduler.step()\n",
    "                model.train()  # Set model to training mode\n",
    "            else:\n",
    "                model.eval()   # Set model to evaluate mode\n",
    "\n",
    "            running_loss = 0.0\n",
    "            n_samples = 0\n",
    "            \n",
    "            # Iterate over data.\n",
    "            for batch_num, (inputs, labels) in enumerate(dataloaders[phase]):\n",
    "                inputs = inputs.to(device)\n",
    "                labels = labels.float().to(device)\n",
    "                                \n",
    "                # zero the parameter gradients\n",
    "                optimizer.zero_grad()\n",
    "                batchSize = inputs.size(0)\n",
    "                n_samples += batchSize\n",
    "                \n",
    "                with torch.set_grad_enabled(phase == 'train'):\n",
    "                    outputs = model(inputs)\n",
    "                    loss = criterion(outputs, labels.view(-1,1))\n",
    "                    \n",
    "                    # statistics\n",
    "                    running_loss += loss.item()\n",
    "                    \n",
    "                    # backward + optimize only if in training phase\n",
    "                    if phase == 'train':\n",
    "                        loss.backward()\n",
    "                        optimizer.step()\n",
    "                \n",
    "                if batch_num % verbIter == 0:\n",
    "                    # Metrics\n",
    "                    epoch_loss = running_loss /n_samples\n",
    "\n",
    "                    f.write('{} Loss: {:.4f} \\n'.format(phase, epoch_loss))\n",
    "                    f.flush()\n",
    "                    \n",
    "                    metrics_dict[phase][\"loss\"][\"stepwise\"].append(epoch_loss)\n",
    "                \n",
    "            # Metrics\n",
    "            epoch_loss = running_loss /n_samples\n",
    "\n",
    "            f.write('{} Loss: {:.4f} \\n'.format(phase, epoch_loss))\n",
    "            f.flush()\n",
    "            \n",
    "            metrics_dict[phase][\"loss\"][\"epochwise\"].append(epoch_loss)\n",
    "            # deep copy the model\n",
    "            if phase == 'valid' and epoch_loss < best_loss:\n",
    "                best_loss = epoch_loss\n",
    "                best_model_wts = copy.deepcopy(model.state_dict())\n",
    "                \n",
    "            torch.save({\n",
    "            'epoch': epoch,\n",
    "            'model_state_dict': model.state_dict(),\n",
    "            'full_metrics': metrics_dict,\n",
    "            'hyperparams': hyperparams\n",
    "            }, '%s/net_epoch_%d.pth' % (checkpoint_path, epoch))\n",
    "\n",
    "    f.write('Best val loss: {:4f} \\n'.format(best_loss))\n",
    "    f.flush()\n",
    "\n",
    "    # load best model weights\n",
    "    model.load_state_dict(best_model_wts)\n",
    "    return model"
   ]
  },
  {
   "cell_type": "code",
   "execution_count": 54,
   "metadata": {},
   "outputs": [],
   "source": [
    "class MLP(nn.Module):\n",
    "    def __init__(self,\n",
    "                 inp_size,\n",
    "                 mlp_hidden,\n",
    "                 n_layers,\n",
    "                 dropout):\n",
    "        super(MLP, self).__init__()\n",
    "        self.distrlayer = nn.Linear(inp_size, mlp_hidden)\n",
    "        self.layers = nn.ModuleList()\n",
    "        # hidden layers\n",
    "        for i in range(n_layers):\n",
    "            self.layers.append(nn.Linear(mlp_hidden, mlp_hidden))\n",
    "        # output layer\n",
    "        self.nonlinear = nn.ReLU()\n",
    "        self.outlayer = nn.Linear(mlp_hidden, 1)\n",
    "        self.dropout = nn.Dropout(p=dropout)\n",
    "\n",
    "    def forward(self, features):\n",
    "        h = self.distrlayer(features)\n",
    "        h = self.nonlinear(h)\n",
    "        h = self.dropout(h)\n",
    "        for i, layer in enumerate(self.layers):\n",
    "            h = layer(h)\n",
    "            h = self.nonlinear(h)\n",
    "            h = self.dropout(h)\n",
    "        h = self.outlayer(h)\n",
    "        return h"
   ]
  },
  {
   "cell_type": "code",
   "execution_count": 55,
   "metadata": {},
   "outputs": [],
   "source": [
    "neg_ex = train_data.shape[0] - np.sum(train_targets)\n",
    "pos_ex = np.sum(train_targets)\n",
    "imbalance_factor = neg_ex/pos_ex"
   ]
  },
  {
   "cell_type": "code",
   "execution_count": 60,
   "metadata": {},
   "outputs": [
    {
     "name": "stderr",
     "output_type": "stream",
     "text": [
      "/home/rj1408/anaconda3/envs/dgl_env/lib/python3.7/site-packages/torch/optim/lr_scheduler.py:82: UserWarning: Detected call of `lr_scheduler.step()` before `optimizer.step()`. In PyTorch 1.1.0 and later, you should call them in the opposite order: `optimizer.step()` before `lr_scheduler.step()`.  Failure to do this will result in PyTorch skipping the first value of the learning rate schedule.See more details at https://pytorch.org/docs/stable/optim.html#how-to-adjust-learning-rate\n",
      "  \"https://pytorch.org/docs/stable/optim.html#how-to-adjust-learning-rate\", UserWarning)\n"
     ]
    }
   ],
   "source": [
    "col_sel = [0.03125,0.0625,0.125,1]\n",
    "model_dir = '/misc/vlgscratch4/BrunaGroup/rj1408/dynamic_nn/models/static_gcn/twitter/mlp/128hid/'\n",
    "bstmodel_dict = {}\n",
    "\n",
    "for num_cols in col_sel:\n",
    "    model_out_dir = os.path.join(model_dir, str(num_cols))\n",
    "    \n",
    "    if not os.path.exists(model_out_dir):\n",
    "        os.makedirs(model_out_dir)\n",
    "    \n",
    "    col_numbers = int(train_data.shape[1]*num_cols)\n",
    "    train_dataset = UserDataset(train_data[:, :col_numbers], train_targets)\n",
    "    test_dataset = UserDataset(test_data[:, :col_numbers], test_targets)\n",
    "    train_loader = DataLoader(train_dataset, batch_size=64, shuffle=True, pin_memory=True)\n",
    "    test_loader = DataLoader(test_dataset, batch_size=64, shuffle=False, pin_memory=True)\n",
    "    dataloaders = {}\n",
    "    dataloaders[\"train\"] = train_loader\n",
    "    dataloaders[\"valid\"] = test_loader\n",
    "    allmodels = []\n",
    "    \n",
    "    for iterations in range(5):\n",
    "        model = MLP(col_numbers, hidden_size, n_layers, drpout)\n",
    "        model.to(current_device)\n",
    "        criterion = nn.BCEWithLogitsLoss(pos_weight=torch.FloatTensor([imbalance_factor])).to(current_device) #pos_weight=torch.FloatTensor([train_class_weights[1]])\n",
    "        model_parameters = [p for p in model.parameters() if p.requires_grad]\n",
    "        optimizer = optim.Adam(model_parameters, lr=0.001, weight_decay = wtdecay)\n",
    "        exp_lr_scheduler = lr_scheduler.StepLR(optimizer, step_size=10, gamma=0.1)\n",
    "        f = open(os.path.join(model_out_dir,'training_logs.txt'), 'w+')\n",
    "        options = {\n",
    "            \"n_layers\":n_layers,\n",
    "            \"mlp_size\":hidden_size\n",
    "        }\n",
    "        bst_model = train_model(model, dataloaders, criterion, optimizer, exp_lr_scheduler, current_device, model_out_dir, f, 10, options, 15)\n",
    "        allmodels.append(bst_model)\n",
    "        \n",
    "    bstmodel_dict[num_cols] = allmodels"
   ]
  },
  {
   "cell_type": "code",
   "execution_count": 70,
   "metadata": {},
   "outputs": [],
   "source": [
    "all_aucs_mean = []\n",
    "all_aucs_std = []\n",
    "all_accs_mean = []\n",
    "all_accs_std = []\n",
    "precat20_mean = []\n",
    "precat20_std = []\n",
    "precat40_mean = []\n",
    "precat40_std = []\n",
    "precat60_mean = []\n",
    "precat60_std = []\n",
    "\n",
    "for num_cols in col_sel:\n",
    "    col_numbers = int(train_data.shape[1]*num_cols)\n",
    "    test_dataset = UserDataset(test_data[:, :col_numbers], test_targets)\n",
    "    test_loader = DataLoader(test_dataset, batch_size=64, shuffle=False, pin_memory=True)\n",
    "    all_aucs = []\n",
    "    all_accs = []\n",
    "    precat20 = []\n",
    "    precat40 = []\n",
    "    precat60 = []\n",
    "    \n",
    "    for bstmodel in bstmodel_dict[num_cols]:\n",
    "        predictions_logits = predict(bstmodel, current_device, test_loader)\n",
    "        sigLayer = nn.Sigmoid()\n",
    "        predictions_scores = sigLayer(predictions_logits).cpu().detach().numpy()\n",
    "        targets = test_targets\n",
    "        roc_auc_mlp = metrics.roc_auc_score(targets, predictions_scores)\n",
    "        accuracy = getaccuracy(targets, predictions_logits)\n",
    "        all_aucs.append(roc_auc_mlp)\n",
    "        all_accs.append(accuracy)\n",
    "        precat20.append(precisionk(20, targets, predictions_logits))\n",
    "        precat40.append(precisionk(40, targets, predictions_logits))\n",
    "        precat60.append(precisionk(60, targets, predictions_logits))\n",
    "    all_aucs_mean.append(np.mean(all_aucs))\n",
    "    all_aucs_std.append(np.std(all_aucs))\n",
    "    all_accs_mean.append(np.mean(all_accs))\n",
    "    all_accs_std.append(np.std(all_accs))\n",
    "    precat20_mean.append(np.mean(precat20))\n",
    "    precat20_std.append(np.std(precat20))\n",
    "    precat40_mean.append(np.mean(precat40))\n",
    "    precat40_std.append(np.std(precat40))\n",
    "    precat60_mean.append(np.mean(precat60))\n",
    "    precat60_std.append(np.std(precat60))"
   ]
  },
  {
   "cell_type": "code",
   "execution_count": 71,
   "metadata": {},
   "outputs": [
    {
     "data": {
      "text/plain": [
       "([0.7924326649104886,\n",
       "  0.853418633406806,\n",
       "  0.8836008816730283,\n",
       "  0.901584323423472],\n",
       " [0.002149276884496393,\n",
       "  0.0010445944731390583,\n",
       "  0.001198723335805517,\n",
       "  0.004369468770778662])"
      ]
     },
     "execution_count": 71,
     "metadata": {},
     "output_type": "execute_result"
    }
   ],
   "source": [
    "all_aucs_mean, all_aucs_std"
   ]
  },
  {
   "cell_type": "code",
   "execution_count": 64,
   "metadata": {},
   "outputs": [],
   "source": [
    "def getaccuracy(labels, logits):\n",
    "    predictions = (logits > 0).long()\n",
    "    predictions = predictions.cpu().detach().numpy()\n",
    "    correct =  np.sum(predictions == labels)\n",
    "    total = labels.shape[0]\n",
    "    return correct/total"
   ]
  },
  {
   "cell_type": "code",
   "execution_count": 67,
   "metadata": {},
   "outputs": [
    {
     "data": {
      "text/plain": [
       "([0.7435897435897436,\n",
       "  0.7902463549522373,\n",
       "  0.8128707893413776,\n",
       "  0.8347913524384112],\n",
       " [0.004359875995712161,\n",
       "  0.012708727058509228,\n",
       "  0.021059561736065793,\n",
       "  0.010207991073472483])"
      ]
     },
     "execution_count": 67,
     "metadata": {},
     "output_type": "execute_result"
    }
   ],
   "source": [
    "all_accs_mean, all_accs_std"
   ]
  },
  {
   "cell_type": "code",
   "execution_count": 69,
   "metadata": {},
   "outputs": [],
   "source": [
    "def precisionk(k, labels, logits):\n",
    "    logits = logits.cpu().detach().numpy()\n",
    "    zpped = list(zip(labels, logits))\n",
    "    zpped = sorted(zpped, key= lambda kvp: kvp[1], reverse=True)\n",
    "    zpped = zpped[:k]\n",
    "    tps = len(list(filter(lambda kvp: kvp[0] == 1, zpped)))\n",
    "    return tps/k"
   ]
  },
  {
   "cell_type": "code",
   "execution_count": 74,
   "metadata": {},
   "outputs": [
    {
     "data": {
      "text/plain": [
       "([0.57, 0.5566666666666666, 0.68, 0.7333333333333334],\n",
       " [0.02211083193570267,\n",
       "  0.022607766610417544,\n",
       "  0.02449489742783178,\n",
       "  0.027888667551135886])"
      ]
     },
     "execution_count": 74,
     "metadata": {},
     "output_type": "execute_result"
    }
   ],
   "source": [
    "precat60_mean, precat60_std"
   ]
  },
  {
   "cell_type": "code",
   "execution_count": 81,
   "metadata": {},
   "outputs": [],
   "source": [
    "metrics_dir = '/misc/vlgscratch4/BrunaGroup/rj1408/dynamic_nn/models/static_gcn/twitter/mlp/128hid/'\n",
    "metrics_dict = {}\n",
    "for i, num_cols in enumerate(col_sel):\n",
    "    metrics_dict[num_cols] = {}\n",
    "    metrics_dict[num_cols]['lr'] = {}\n",
    "    metrics_dict[num_cols]['mlp'] = {}\n",
    "    metrics_dict[num_cols]['mlp']['mean_auc'] = all_aucs_mean[i]\n",
    "    metrics_dict[num_cols]['mlp']['std_auc'] = all_aucs_std[i]\n",
    "    metrics_dict[num_cols]['mlp']['mean_acc'] = all_accs_mean[i]\n",
    "    metrics_dict[num_cols]['mlp']['std_acc'] = all_accs_std[i]\n",
    "    \n",
    "    metrics_dict[num_cols]['lr']['mean_auc'] = auc_thresh[i]\n",
    "    metrics_dict[num_cols]['lr']['mean_acc'] = accuracy_thresh[i]\n",
    "\n",
    "metrics_file = '/misc/vlgscratch4/BrunaGroup/rj1408/dynamic_nn/models/static_gcn/twitter/full_metrics.pkl'\n",
    "with open(metrics_file, 'wb') as f:\n",
    "    pickle.dump(metrics_file, f)"
   ]
  },
  {
   "cell_type": "code",
   "execution_count": 151,
   "metadata": {},
   "outputs": [
    {
     "data": {
      "image/png": "[encoded data removed]",
      "text/plain": [
       "<Figure size 864x432 with 1 Axes>"
      ]
     },
     "metadata": {
      "needs_background": "light"
     },
     "output_type": "display_data"
    }
   ],
   "source": [
    "fpr_mlp, tpr_mlp, thresholds_mlp = metrics.roc_curve(targets, predictions_scores, pos_label=1)\n",
    "plt.figure(figsize=(12,6,))\n",
    "lw = 2\n",
    "\n",
    "plt.plot(fpr_mlp, tpr_mlp, color='darkblue',\n",
    "         lw=lw, label='MLP ROC curve (area = %0.2f)' % roc_auc_mlp)\n",
    "\n",
    "plt.plot([0, 1], [0, 1], color='navy', lw=lw, linestyle='--')\n",
    "plt.xlim([0.0, 1.0])\n",
    "plt.ylim([0.0, 1.05])\n",
    "plt.xlabel('False Positive Rate', fontsize=18)\n",
    "plt.ylabel('True Positive Rate', fontsize=18)\n",
    "plt.title('Receiver operating characteristic curve', fontsize=18)\n",
    "plt.legend(loc=\"lower right\")\n",
    "plt.savefig(\"/home/rj1408/dgnn/roc_mlp.png\")\n",
    "plt.show()"
   ]
  }
 ],
 "metadata": {
  "kernelspec": {
   "display_name": "Python 3",
   "language": "python",
   "name": "python3"
  },
  "language_info": {
   "codemirror_mode": {
    "name": "ipython",
    "version": 3
   },
   "file_extension": ".py",
   "mimetype": "text/x-python",
   "name": "python",
   "nbconvert_exporter": "python",
   "pygments_lexer": "ipython3",
   "version": "3.7.3"
  }
 },
 "nbformat": 4,
 "nbformat_minor": 4
}
